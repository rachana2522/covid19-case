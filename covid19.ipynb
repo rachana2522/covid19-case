{
  "nbformat": 4,
  "nbformat_minor": 0,
  "metadata": {
    "colab": {
      "name": "covid19.ipynb",
      "provenance": [],
      "collapsed_sections": [],
      "authorship_tag": "ABX9TyMVWkFAxLLihp0KqCCq4X3l",
      "include_colab_link": true
    },
    "kernelspec": {
      "name": "python3",
      "display_name": "Python 3"
    },
    "language_info": {
      "name": "python"
    }
  },
  "cells": [
    {
      "cell_type": "markdown",
      "metadata": {
        "id": "view-in-github",
        "colab_type": "text"
      },
      "source": [
        "<a href=\"https://colab.research.google.com/github/rachana2522/covid19-case/blob/main/covid19.ipynb\" target=\"_parent\"><img src=\"https://colab.research.google.com/assets/colab-badge.svg\" alt=\"Open In Colab\"/></a>"
      ]
    },
    {
      "cell_type": "code",
      "metadata": {
        "colab": {
          "base_uri": "https://localhost:8080/"
        },
        "id": "em86F79sGdkO",
        "outputId": "78a8cb5e-4a9a-4df9-ebb3-0bd4239ca965"
      },
      "source": [
        "pip install colored"
      ],
      "execution_count": 4,
      "outputs": [
        {
          "output_type": "stream",
          "name": "stdout",
          "text": [
            "Collecting colored\n",
            "  Downloading colored-1.4.2.tar.gz (56 kB)\n",
            "\u001b[K     |████████████████████████████████| 56 kB 3.4 MB/s \n",
            "\u001b[?25hBuilding wheels for collected packages: colored\n",
            "  Building wheel for colored (setup.py) ... \u001b[?25l\u001b[?25hdone\n",
            "  Created wheel for colored: filename=colored-1.4.2-py3-none-any.whl size=14023 sha256=cafc5227a11055eb3e3ec910ae35e91b1ab5113b8e58f1071f38c173b15ac24c\n",
            "  Stored in directory: /root/.cache/pip/wheels/5f/e1/fb/d0e85a8383ff58962319bb81c46e398fa1f4bb9e1feb0f81c4\n",
            "Successfully built colored\n",
            "Installing collected packages: colored\n",
            "Successfully installed colored-1.4.2\n"
          ]
        }
      ]
    },
    {
      "cell_type": "code",
      "metadata": {
        "colab": {
          "base_uri": "https://localhost:8080/"
        },
        "id": "5fiWRwRqGiuS",
        "outputId": "33a90346-0cba-4cae-c464-c7848e8317b1"
      },
      "source": [
        "pip install pandas"
      ],
      "execution_count": 5,
      "outputs": [
        {
          "output_type": "stream",
          "name": "stdout",
          "text": [
            "Requirement already satisfied: pandas in /usr/local/lib/python3.7/dist-packages (1.1.5)\n",
            "Requirement already satisfied: pytz>=2017.2 in /usr/local/lib/python3.7/dist-packages (from pandas) (2018.9)\n",
            "Requirement already satisfied: numpy>=1.15.4 in /usr/local/lib/python3.7/dist-packages (from pandas) (1.19.5)\n",
            "Requirement already satisfied: python-dateutil>=2.7.3 in /usr/local/lib/python3.7/dist-packages (from pandas) (2.8.2)\n",
            "Requirement already satisfied: six>=1.5 in /usr/local/lib/python3.7/dist-packages (from python-dateutil>=2.7.3->pandas) (1.15.0)\n"
          ]
        }
      ]
    },
    {
      "cell_type": "code",
      "metadata": {
        "colab": {
          "base_uri": "https://localhost:8080/"
        },
        "id": "4uYFwtGGGvku",
        "outputId": "53b5b26a-6f86-41f9-8318-26149af64bfb"
      },
      "source": [
        "pip install matplotlib"
      ],
      "execution_count": 7,
      "outputs": [
        {
          "output_type": "stream",
          "name": "stdout",
          "text": [
            "Requirement already satisfied: matplotlib in /usr/local/lib/python3.7/dist-packages (3.2.2)\n",
            "Requirement already satisfied: numpy>=1.11 in /usr/local/lib/python3.7/dist-packages (from matplotlib) (1.19.5)\n",
            "Requirement already satisfied: python-dateutil>=2.1 in /usr/local/lib/python3.7/dist-packages (from matplotlib) (2.8.2)\n",
            "Requirement already satisfied: cycler>=0.10 in /usr/local/lib/python3.7/dist-packages (from matplotlib) (0.10.0)\n",
            "Requirement already satisfied: kiwisolver>=1.0.1 in /usr/local/lib/python3.7/dist-packages (from matplotlib) (1.3.1)\n",
            "Requirement already satisfied: pyparsing!=2.0.4,!=2.1.2,!=2.1.6,>=2.0.1 in /usr/local/lib/python3.7/dist-packages (from matplotlib) (2.4.7)\n",
            "Requirement already satisfied: six in /usr/local/lib/python3.7/dist-packages (from cycler>=0.10->matplotlib) (1.15.0)\n"
          ]
        }
      ]
    },
    {
      "cell_type": "code",
      "metadata": {
        "colab": {
          "base_uri": "https://localhost:8080/"
        },
        "id": "uqcUFn35G432",
        "outputId": "3102ecc0-8e62-44c7-cde0-cc24de96ca06"
      },
      "source": [
        "#!/usr/local/bin/python3\n",
        "# Made by @swisscoding on Instagram\n",
        "\n",
        "import colored\n",
        "import pandas as pd\n",
        "import matplotlib.pyplot as plt\n",
        "\n",
        "print(colored.stylize(\"\\n---- | Plotting COVID-19 cases in specified country | ----\\n\", colored.fg(\"red\")))\n",
        "\n",
        "# dataframe\n",
        "df = pd.read_csv(\"https://raw.githubusercontent.com/owid/covid-19-data/master/public/data/owid-covid-data.csv\")\n",
        "\n",
        "# smaller more useful dataframe\n",
        "small_df = df[[\"location\", \"new_cases\", \"total_deaths\", \"population\", \"date\"]]\n",
        "small_df_values = small_df.values\n",
        "\n",
        "# user interaction\n",
        "country = input(\"Enter the country: \")\n",
        "\n",
        "# limitation to one country\n",
        "mask = small_df_values[:,0] == country\n",
        "small_df_values_with_mask = small_df_values[mask]\n",
        "\n",
        "print(f\"\\nPopulation of {country}: {int(small_df_values_with_mask[-1:,3][0])}\")\n",
        "print(f\"Total deaths: {int(small_df_values_with_mask[-1:,2][0])}\\n\")\n",
        "\n",
        "# last 14 days and its cases\n",
        "dates = [ i[8:] for i in small_df_values_with_mask[:,4][-15:-1]]\n",
        "cases = small_df_values_with_mask[:,1][-15:-1]\n",
        "\n",
        "fig = plt.figure(\"Plotting with Pyplot\")\n",
        "plt.scatter(dates, cases)\n",
        "plt.plot(dates, cases)\n",
        "plt.title(\"COVID-19 cases of the last 14 days\")\n",
        "plt.xlabel(\"Date - 2020\")\n",
        "plt.ylabel(\"Cases\")\n",
        "plt.show()"
      ],
      "execution_count": null,
      "outputs": [
        {
          "output_type": "stream",
          "name": "stdout",
          "text": [
            "\u001b[38;5;1m\n",
            "---- | Plotting COVID-19 cases in specified country | ----\n",
            "\u001b[0m\n"
          ]
        }
      ]
    }
  ]
}